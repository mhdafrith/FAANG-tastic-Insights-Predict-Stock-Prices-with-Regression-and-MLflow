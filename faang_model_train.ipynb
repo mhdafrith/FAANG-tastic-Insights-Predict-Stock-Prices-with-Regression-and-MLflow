{
 "cells": [
  {
   "cell_type": "code",
   "execution_count": 105,
   "metadata": {},
   "outputs": [],
   "source": [
    "import pandas as pd\n",
    "from sklearn.model_selection import train_test_split\n",
    "from sklearn.preprocessing import StandardScaler\n",
    "from sklearn.linear_model import LinearRegression\n",
    "from sklearn.metrics import mean_squared_error, r2_score, mean_absolute_error\n",
    "from sklearn.metrics import root_mean_squared_error\n",
    "from sklearn import tree\n",
    "from sklearn.ensemble import RandomForestRegressor\n",
    "from sklearn.model_selection import GridSearchCV\n",
    "import mlflow"
   ]
  },
  {
   "cell_type": "code",
   "execution_count": 62,
   "metadata": {},
   "outputs": [],
   "source": [
    "file_path=('/Users/mohamedafrith/Downloads/FAANG - FAANG.csv.csv')\n",
    "df=pd.read_csv(file_path)"
   ]
  },
  {
   "cell_type": "code",
   "execution_count": 63,
   "metadata": {},
   "outputs": [],
   "source": [
    "df=df[['Company','Date','Open','Close',]]"
   ]
  },
  {
   "cell_type": "code",
   "execution_count": 64,
   "metadata": {},
   "outputs": [
    {
     "name": "stdout",
     "output_type": "stream",
     "text": [
      "<class 'pandas.core.frame.DataFrame'>\n",
      "RangeIndex: 23055 entries, 0 to 23054\n",
      "Data columns (total 4 columns):\n",
      " #   Column   Non-Null Count  Dtype  \n",
      "---  ------   --------------  -----  \n",
      " 0   Company  23055 non-null  object \n",
      " 1   Date     23055 non-null  object \n",
      " 2   Open     23055 non-null  float64\n",
      " 3   Close    23055 non-null  float64\n",
      "dtypes: float64(2), object(2)\n",
      "memory usage: 720.6+ KB\n"
     ]
    }
   ],
   "source": [
    "df.info()"
   ]
  },
  {
   "cell_type": "code",
   "execution_count": 67,
   "metadata": {},
   "outputs": [],
   "source": [
    "df['Date'] = df['Date'].astype('datetime64[ns]')"
   ]
  },
  {
   "cell_type": "code",
   "execution_count": 68,
   "metadata": {},
   "outputs": [
    {
     "data": {
      "text/html": [
       "<div>\n",
       "<style scoped>\n",
       "    .dataframe tbody tr th:only-of-type {\n",
       "        vertical-align: middle;\n",
       "    }\n",
       "\n",
       "    .dataframe tbody tr th {\n",
       "        vertical-align: top;\n",
       "    }\n",
       "\n",
       "    .dataframe thead th {\n",
       "        text-align: right;\n",
       "    }\n",
       "</style>\n",
       "<table border=\"1\" class=\"dataframe\">\n",
       "  <thead>\n",
       "    <tr style=\"text-align: right;\">\n",
       "      <th></th>\n",
       "      <th>Company</th>\n",
       "      <th>Date</th>\n",
       "      <th>Open</th>\n",
       "      <th>Close</th>\n",
       "      <th>Year</th>\n",
       "      <th>Month</th>\n",
       "      <th>Day</th>\n",
       "    </tr>\n",
       "  </thead>\n",
       "  <tbody>\n",
       "    <tr>\n",
       "      <th>0</th>\n",
       "      <td>Apple</td>\n",
       "      <td>2005-01-03</td>\n",
       "      <td>1.156786</td>\n",
       "      <td>1.130179</td>\n",
       "      <td>2005</td>\n",
       "      <td>1</td>\n",
       "      <td>3</td>\n",
       "    </tr>\n",
       "    <tr>\n",
       "      <th>1</th>\n",
       "      <td>Apple</td>\n",
       "      <td>2005-01-04</td>\n",
       "      <td>1.139107</td>\n",
       "      <td>1.141786</td>\n",
       "      <td>2005</td>\n",
       "      <td>1</td>\n",
       "      <td>4</td>\n",
       "    </tr>\n",
       "    <tr>\n",
       "      <th>2</th>\n",
       "      <td>Apple</td>\n",
       "      <td>2005-01-05</td>\n",
       "      <td>1.151071</td>\n",
       "      <td>1.151786</td>\n",
       "      <td>2005</td>\n",
       "      <td>1</td>\n",
       "      <td>5</td>\n",
       "    </tr>\n",
       "    <tr>\n",
       "      <th>3</th>\n",
       "      <td>Apple</td>\n",
       "      <td>2005-01-06</td>\n",
       "      <td>1.154821</td>\n",
       "      <td>1.152679</td>\n",
       "      <td>2005</td>\n",
       "      <td>1</td>\n",
       "      <td>6</td>\n",
       "    </tr>\n",
       "    <tr>\n",
       "      <th>4</th>\n",
       "      <td>Apple</td>\n",
       "      <td>2005-01-07</td>\n",
       "      <td>1.160714</td>\n",
       "      <td>1.236607</td>\n",
       "      <td>2005</td>\n",
       "      <td>1</td>\n",
       "      <td>7</td>\n",
       "    </tr>\n",
       "    <tr>\n",
       "      <th>...</th>\n",
       "      <td>...</td>\n",
       "      <td>...</td>\n",
       "      <td>...</td>\n",
       "      <td>...</td>\n",
       "      <td>...</td>\n",
       "      <td>...</td>\n",
       "      <td>...</td>\n",
       "    </tr>\n",
       "    <tr>\n",
       "      <th>23050</th>\n",
       "      <td>Netflix</td>\n",
       "      <td>2024-10-11</td>\n",
       "      <td>734.900024</td>\n",
       "      <td>722.789978</td>\n",
       "      <td>2024</td>\n",
       "      <td>10</td>\n",
       "      <td>11</td>\n",
       "    </tr>\n",
       "    <tr>\n",
       "      <th>23051</th>\n",
       "      <td>Netflix</td>\n",
       "      <td>2024-10-14</td>\n",
       "      <td>725.000000</td>\n",
       "      <td>713.000000</td>\n",
       "      <td>2024</td>\n",
       "      <td>10</td>\n",
       "      <td>14</td>\n",
       "    </tr>\n",
       "    <tr>\n",
       "      <th>23052</th>\n",
       "      <td>Netflix</td>\n",
       "      <td>2024-10-15</td>\n",
       "      <td>712.510010</td>\n",
       "      <td>705.979981</td>\n",
       "      <td>2024</td>\n",
       "      <td>10</td>\n",
       "      <td>15</td>\n",
       "    </tr>\n",
       "    <tr>\n",
       "      <th>23053</th>\n",
       "      <td>Netflix</td>\n",
       "      <td>2024-10-16</td>\n",
       "      <td>703.429993</td>\n",
       "      <td>702.000000</td>\n",
       "      <td>2024</td>\n",
       "      <td>10</td>\n",
       "      <td>16</td>\n",
       "    </tr>\n",
       "    <tr>\n",
       "      <th>23054</th>\n",
       "      <td>Netflix</td>\n",
       "      <td>2024-10-17</td>\n",
       "      <td>704.349976</td>\n",
       "      <td>687.650024</td>\n",
       "      <td>2024</td>\n",
       "      <td>10</td>\n",
       "      <td>17</td>\n",
       "    </tr>\n",
       "  </tbody>\n",
       "</table>\n",
       "<p>23055 rows × 7 columns</p>\n",
       "</div>"
      ],
      "text/plain": [
       "       Company       Date        Open       Close  Year  Month  Day\n",
       "0        Apple 2005-01-03    1.156786    1.130179  2005      1    3\n",
       "1        Apple 2005-01-04    1.139107    1.141786  2005      1    4\n",
       "2        Apple 2005-01-05    1.151071    1.151786  2005      1    5\n",
       "3        Apple 2005-01-06    1.154821    1.152679  2005      1    6\n",
       "4        Apple 2005-01-07    1.160714    1.236607  2005      1    7\n",
       "...        ...        ...         ...         ...   ...    ...  ...\n",
       "23050  Netflix 2024-10-11  734.900024  722.789978  2024     10   11\n",
       "23051  Netflix 2024-10-14  725.000000  713.000000  2024     10   14\n",
       "23052  Netflix 2024-10-15  712.510010  705.979981  2024     10   15\n",
       "23053  Netflix 2024-10-16  703.429993  702.000000  2024     10   16\n",
       "23054  Netflix 2024-10-17  704.349976  687.650024  2024     10   17\n",
       "\n",
       "[23055 rows x 7 columns]"
      ]
     },
     "execution_count": 68,
     "metadata": {},
     "output_type": "execute_result"
    }
   ],
   "source": [
    "df['Year']=df['Date'].dt.year\n",
    "df['Month']=df['Date'].dt.month\n",
    "df['Day']=df['Date'].dt.day\n",
    "df"
   ]
  },
  {
   "cell_type": "code",
   "execution_count": 69,
   "metadata": {},
   "outputs": [],
   "source": [
    "df=df.drop(columns='Date')"
   ]
  },
  {
   "cell_type": "code",
   "execution_count": 72,
   "metadata": {},
   "outputs": [],
   "source": [
    "mapping = {\n",
    "    'Facebook': 1,\n",
    "    'Amazon': 2,\n",
    "    'Apple': 3,\n",
    "    'Netflix': 4,\n",
    "    'Google': 5}\n",
    "df['Company'] = df['Company'].map(mapping)"
   ]
  },
  {
   "cell_type": "code",
   "execution_count": 74,
   "metadata": {},
   "outputs": [
    {
     "name": "stdout",
     "output_type": "stream",
     "text": [
      "<class 'pandas.core.frame.DataFrame'>\n",
      "RangeIndex: 23055 entries, 0 to 23054\n",
      "Data columns (total 6 columns):\n",
      " #   Column   Non-Null Count  Dtype  \n",
      "---  ------   --------------  -----  \n",
      " 0   Company  23055 non-null  int64  \n",
      " 1   Open     23055 non-null  float64\n",
      " 2   Close    23055 non-null  float64\n",
      " 3   Year     23055 non-null  int32  \n",
      " 4   Month    23055 non-null  int32  \n",
      " 5   Day      23055 non-null  int32  \n",
      "dtypes: float64(2), int32(3), int64(1)\n",
      "memory usage: 810.7 KB\n"
     ]
    }
   ],
   "source": [
    "df.info()"
   ]
  },
  {
   "cell_type": "code",
   "execution_count": 75,
   "metadata": {},
   "outputs": [
    {
     "data": {
      "text/html": [
       "<div>\n",
       "<style scoped>\n",
       "    .dataframe tbody tr th:only-of-type {\n",
       "        vertical-align: middle;\n",
       "    }\n",
       "\n",
       "    .dataframe tbody tr th {\n",
       "        vertical-align: top;\n",
       "    }\n",
       "\n",
       "    .dataframe thead th {\n",
       "        text-align: right;\n",
       "    }\n",
       "</style>\n",
       "<table border=\"1\" class=\"dataframe\">\n",
       "  <thead>\n",
       "    <tr style=\"text-align: right;\">\n",
       "      <th></th>\n",
       "      <th>Close</th>\n",
       "    </tr>\n",
       "  </thead>\n",
       "  <tbody>\n",
       "    <tr>\n",
       "      <th>0</th>\n",
       "      <td>1.130179</td>\n",
       "    </tr>\n",
       "    <tr>\n",
       "      <th>1</th>\n",
       "      <td>1.141786</td>\n",
       "    </tr>\n",
       "    <tr>\n",
       "      <th>2</th>\n",
       "      <td>1.151786</td>\n",
       "    </tr>\n",
       "    <tr>\n",
       "      <th>3</th>\n",
       "      <td>1.152679</td>\n",
       "    </tr>\n",
       "    <tr>\n",
       "      <th>4</th>\n",
       "      <td>1.236607</td>\n",
       "    </tr>\n",
       "    <tr>\n",
       "      <th>...</th>\n",
       "      <td>...</td>\n",
       "    </tr>\n",
       "    <tr>\n",
       "      <th>23050</th>\n",
       "      <td>722.789978</td>\n",
       "    </tr>\n",
       "    <tr>\n",
       "      <th>23051</th>\n",
       "      <td>713.000000</td>\n",
       "    </tr>\n",
       "    <tr>\n",
       "      <th>23052</th>\n",
       "      <td>705.979981</td>\n",
       "    </tr>\n",
       "    <tr>\n",
       "      <th>23053</th>\n",
       "      <td>702.000000</td>\n",
       "    </tr>\n",
       "    <tr>\n",
       "      <th>23054</th>\n",
       "      <td>687.650024</td>\n",
       "    </tr>\n",
       "  </tbody>\n",
       "</table>\n",
       "<p>23055 rows × 1 columns</p>\n",
       "</div>"
      ],
      "text/plain": [
       "            Close\n",
       "0        1.130179\n",
       "1        1.141786\n",
       "2        1.151786\n",
       "3        1.152679\n",
       "4        1.236607\n",
       "...           ...\n",
       "23050  722.789978\n",
       "23051  713.000000\n",
       "23052  705.979981\n",
       "23053  702.000000\n",
       "23054  687.650024\n",
       "\n",
       "[23055 rows x 1 columns]"
      ]
     },
     "execution_count": 75,
     "metadata": {},
     "output_type": "execute_result"
    }
   ],
   "source": [
    "y=df[['Close']]\n",
    "y"
   ]
  },
  {
   "cell_type": "code",
   "execution_count": 76,
   "metadata": {},
   "outputs": [
    {
     "data": {
      "text/html": [
       "<div>\n",
       "<style scoped>\n",
       "    .dataframe tbody tr th:only-of-type {\n",
       "        vertical-align: middle;\n",
       "    }\n",
       "\n",
       "    .dataframe tbody tr th {\n",
       "        vertical-align: top;\n",
       "    }\n",
       "\n",
       "    .dataframe thead th {\n",
       "        text-align: right;\n",
       "    }\n",
       "</style>\n",
       "<table border=\"1\" class=\"dataframe\">\n",
       "  <thead>\n",
       "    <tr style=\"text-align: right;\">\n",
       "      <th></th>\n",
       "      <th>Company</th>\n",
       "      <th>Open</th>\n",
       "      <th>Year</th>\n",
       "      <th>Month</th>\n",
       "      <th>Day</th>\n",
       "    </tr>\n",
       "  </thead>\n",
       "  <tbody>\n",
       "    <tr>\n",
       "      <th>0</th>\n",
       "      <td>3</td>\n",
       "      <td>1.156786</td>\n",
       "      <td>2005</td>\n",
       "      <td>1</td>\n",
       "      <td>3</td>\n",
       "    </tr>\n",
       "    <tr>\n",
       "      <th>1</th>\n",
       "      <td>3</td>\n",
       "      <td>1.139107</td>\n",
       "      <td>2005</td>\n",
       "      <td>1</td>\n",
       "      <td>4</td>\n",
       "    </tr>\n",
       "    <tr>\n",
       "      <th>2</th>\n",
       "      <td>3</td>\n",
       "      <td>1.151071</td>\n",
       "      <td>2005</td>\n",
       "      <td>1</td>\n",
       "      <td>5</td>\n",
       "    </tr>\n",
       "    <tr>\n",
       "      <th>3</th>\n",
       "      <td>3</td>\n",
       "      <td>1.154821</td>\n",
       "      <td>2005</td>\n",
       "      <td>1</td>\n",
       "      <td>6</td>\n",
       "    </tr>\n",
       "    <tr>\n",
       "      <th>4</th>\n",
       "      <td>3</td>\n",
       "      <td>1.160714</td>\n",
       "      <td>2005</td>\n",
       "      <td>1</td>\n",
       "      <td>7</td>\n",
       "    </tr>\n",
       "    <tr>\n",
       "      <th>...</th>\n",
       "      <td>...</td>\n",
       "      <td>...</td>\n",
       "      <td>...</td>\n",
       "      <td>...</td>\n",
       "      <td>...</td>\n",
       "    </tr>\n",
       "    <tr>\n",
       "      <th>23050</th>\n",
       "      <td>4</td>\n",
       "      <td>734.900024</td>\n",
       "      <td>2024</td>\n",
       "      <td>10</td>\n",
       "      <td>11</td>\n",
       "    </tr>\n",
       "    <tr>\n",
       "      <th>23051</th>\n",
       "      <td>4</td>\n",
       "      <td>725.000000</td>\n",
       "      <td>2024</td>\n",
       "      <td>10</td>\n",
       "      <td>14</td>\n",
       "    </tr>\n",
       "    <tr>\n",
       "      <th>23052</th>\n",
       "      <td>4</td>\n",
       "      <td>712.510010</td>\n",
       "      <td>2024</td>\n",
       "      <td>10</td>\n",
       "      <td>15</td>\n",
       "    </tr>\n",
       "    <tr>\n",
       "      <th>23053</th>\n",
       "      <td>4</td>\n",
       "      <td>703.429993</td>\n",
       "      <td>2024</td>\n",
       "      <td>10</td>\n",
       "      <td>16</td>\n",
       "    </tr>\n",
       "    <tr>\n",
       "      <th>23054</th>\n",
       "      <td>4</td>\n",
       "      <td>704.349976</td>\n",
       "      <td>2024</td>\n",
       "      <td>10</td>\n",
       "      <td>17</td>\n",
       "    </tr>\n",
       "  </tbody>\n",
       "</table>\n",
       "<p>23055 rows × 5 columns</p>\n",
       "</div>"
      ],
      "text/plain": [
       "       Company        Open  Year  Month  Day\n",
       "0            3    1.156786  2005      1    3\n",
       "1            3    1.139107  2005      1    4\n",
       "2            3    1.151071  2005      1    5\n",
       "3            3    1.154821  2005      1    6\n",
       "4            3    1.160714  2005      1    7\n",
       "...        ...         ...   ...    ...  ...\n",
       "23050        4  734.900024  2024     10   11\n",
       "23051        4  725.000000  2024     10   14\n",
       "23052        4  712.510010  2024     10   15\n",
       "23053        4  703.429993  2024     10   16\n",
       "23054        4  704.349976  2024     10   17\n",
       "\n",
       "[23055 rows x 5 columns]"
      ]
     },
     "execution_count": 76,
     "metadata": {},
     "output_type": "execute_result"
    }
   ],
   "source": [
    "x=df.drop('Close', axis=1)\n",
    "x"
   ]
  },
  {
   "cell_type": "code",
   "execution_count": 77,
   "metadata": {},
   "outputs": [],
   "source": [
    "x_train,x_test,y_train,y_test=train_test_split(x,y,test_size=0.30,random_state=42)\n"
   ]
  },
  {
   "cell_type": "markdown",
   "metadata": {},
   "source": [
    "**Linear Regression**"
   ]
  },
  {
   "cell_type": "code",
   "execution_count": 84,
   "metadata": {},
   "outputs": [
    {
     "name": "stdout",
     "output_type": "stream",
     "text": [
      "Mean Squared Error =  7.202438112502877\n",
      "R2 Score =  0.9995243602780101\n",
      "Mean Absolute Error =  1.1733872542518304\n",
      "Root Mean Squared Error =  2.6837358499865216\n"
     ]
    }
   ],
   "source": [
    "lr=LinearRegression( fit_intercept=True, copy_X=True, n_jobs=None, positive=False)\n",
    "lr.fit(x_train,y_train)\n",
    "predicted_y=lr.predict(x_test)\n",
    "print(\"Mean Squared Error = \", mean_squared_error(y_test ,predicted_y))\n",
    "print(\"R2 Score = \", r2_score(y_test ,predicted_y))\n",
    "print(\"Mean Absolute Error = \",mean_absolute_error(y_test,predicted_y ))\n",
    "print(\"Root Mean Squared Error = \",root_mean_squared_error(y_test,predicted_y ))"
   ]
  },
  {
   "cell_type": "code",
   "execution_count": 103,
   "metadata": {},
   "outputs": [],
   "source": [
    "best_params_lr={'fit_intercept':True, 'copy_X':True, 'n_jobs':None, 'positive':False}"
   ]
  },
  {
   "cell_type": "markdown",
   "metadata": {},
   "source": [
    "**Decision Tree Regressor**"
   ]
  },
  {
   "cell_type": "code",
   "execution_count": 99,
   "metadata": {},
   "outputs": [
    {
     "name": "stdout",
     "output_type": "stream",
     "text": [
      "*************** 5 1\n",
      "R2 Score =  0.9983991538333107\n",
      "Mean Squared Error =  24.24102721063728\n",
      "Root Mean Squared Error =  4.923517767880734\n",
      "Mean Absolute Error =  3.351008691504032\n",
      "*************** 5 2\n",
      "R2 Score =  0.9983991538333107\n",
      "Mean Squared Error =  24.24102721063728\n",
      "Root Mean Squared Error =  4.923517767880734\n",
      "Mean Absolute Error =  3.351008691504032\n",
      "*************** 5 5\n",
      "R2 Score =  0.9983991538333107\n",
      "Mean Squared Error =  24.24102721063728\n",
      "Root Mean Squared Error =  4.923517767880734\n",
      "Mean Absolute Error =  3.351008691504032\n",
      "*************** 5 10\n",
      "R2 Score =  0.9983991538333107\n",
      "Mean Squared Error =  24.24102721063728\n",
      "Root Mean Squared Error =  4.923517767880734\n",
      "Mean Absolute Error =  3.351008691504032\n",
      "*************** 10 1\n",
      "R2 Score =  0.9992235524855719\n",
      "Mean Squared Error =  11.757460345991214\n",
      "Root Mean Squared Error =  3.428915330828572\n",
      "Mean Absolute Error =  1.427743871267858\n",
      "*************** 10 2\n",
      "R2 Score =  0.9992663255286777\n",
      "Mean Squared Error =  11.10976381937805\n",
      "Root Mean Squared Error =  3.3331312334467196\n",
      "Mean Absolute Error =  1.4062569167835757\n",
      "*************** 10 5\n",
      "R2 Score =  0.9993463103934058\n",
      "Mean Squared Error =  9.89858230633725\n",
      "Root Mean Squared Error =  3.146201250132809\n",
      "Mean Absolute Error =  1.3666015649180105\n",
      "*************** 10 10\n",
      "R2 Score =  0.9994089526595679\n",
      "Mean Squared Error =  8.95001341185745\n",
      "Root Mean Squared Error =  2.9916573018742385\n",
      "Mean Absolute Error =  1.3171056031819643\n",
      "*************** 20 1\n",
      "R2 Score =  0.9989845429293192\n",
      "Mean Squared Error =  15.376694521820207\n",
      "Root Mean Squared Error =  3.9213128569166993\n",
      "Mean Absolute Error =  1.7409368931262892\n",
      "*************** 20 2\n",
      "R2 Score =  0.9991207916379355\n",
      "Mean Squared Error =  13.313530226768515\n",
      "Root Mean Squared Error =  3.6487710570503755\n",
      "Mean Absolute Error =  1.6280029878404496\n",
      "*************** 20 5\n",
      "R2 Score =  0.9993002682124987\n",
      "Mean Squared Error =  10.59578218939306\n",
      "Root Mean Squared Error =  3.255116309656701\n",
      "Mean Absolute Error =  1.4537655094057973\n",
      "*************** 20 10\n",
      "R2 Score =  0.999401721214298\n",
      "Mean Squared Error =  9.059516539144909\n",
      "Root Mean Squared Error =  3.0099030780317344\n",
      "Mean Absolute Error =  1.3369314944169661\n"
     ]
    }
   ],
   "source": [
    "max_depths = [ 5, 10, 20]\n",
    "min_samples_leafs = [1, 2, 5, 10]\n",
    "for max_depth in max_depths:\n",
    "    for min_samples_leaf in min_samples_leafs:\n",
    "\n",
    "            decision_tree_model= tree.DecisionTreeRegressor(max_depth=max_depth,min_samples_leaf=min_samples_leaf,random_state=42)\n",
    "            decision_tree_model= decision_tree_model.fit(x_train,y_train)\n",
    "            dt_pred=decision_tree_model.predict(x_test)\n",
    "            print('***************',max_depth,min_samples_leaf)\n",
    "            print(\"R2 Score = \", r2_score(y_test, dt_pred))\n",
    "            print(\"Mean Squared Error = \", mean_squared_error(y_test, dt_pred))\n",
    "            print(\"Root Mean Squared Error = \",root_mean_squared_error(y_test,dt_pred))\n",
    "            print(\"Mean Absolute Error = \",mean_absolute_error(y_test,dt_pred))\n",
    "            "
   ]
  },
  {
   "cell_type": "code",
   "execution_count": 91,
   "metadata": {},
   "outputs": [
    {
     "name": "stdout",
     "output_type": "stream",
     "text": [
      "max_depth=None, min_samples_leaf=1 --> MSE: 17.3637\n",
      "max_depth=None, min_samples_leaf=2 --> MSE: 14.6175\n",
      "max_depth=None, min_samples_leaf=5 --> MSE: 11.6954\n",
      "max_depth=None, min_samples_leaf=10 --> MSE: 10.3468\n",
      "max_depth=5, min_samples_leaf=1 --> MSE: 26.9425\n",
      "max_depth=5, min_samples_leaf=2 --> MSE: 26.9425\n",
      "max_depth=5, min_samples_leaf=5 --> MSE: 26.9425\n",
      "max_depth=5, min_samples_leaf=10 --> MSE: 26.9425\n",
      "max_depth=10, min_samples_leaf=1 --> MSE: 14.0350\n",
      "max_depth=10, min_samples_leaf=2 --> MSE: 12.6119\n",
      "max_depth=10, min_samples_leaf=5 --> MSE: 11.3182\n",
      "max_depth=10, min_samples_leaf=10 --> MSE: 10.2776\n",
      "max_depth=20, min_samples_leaf=1 --> MSE: 17.3788\n",
      "max_depth=20, min_samples_leaf=2 --> MSE: 14.5691\n",
      "max_depth=20, min_samples_leaf=5 --> MSE: 11.6954\n",
      "max_depth=20, min_samples_leaf=10 --> MSE: 10.3468\n",
      "\n",
      "Best MSE: 10.277584268635078\n",
      "Best Parameters: {'max_depth': 10, 'min_samples_leaf': 10}\n"
     ]
    }
   ],
   "source": [
    "from sklearn.tree import DecisionTreeRegressor\n",
    "from sklearn.model_selection import cross_val_score\n",
    "import numpy as np\n",
    "\n",
    "# Example data (replace with actual data)\n",
    "#x_train, y_train = ...\n",
    "\n",
    "# Hyperparameter grid\n",
    "max_depths = [None, 5, 10, 20]\n",
    "min_samples_leafs = [1, 2, 5, 10]\n",
    "\n",
    "best_score = float('inf')\n",
    "best_params = {}\n",
    "\n",
    "# Tuning loop\n",
    "for max_depth in max_depths:\n",
    "    for min_samples_leaf in min_samples_leafs:\n",
    "        model = DecisionTreeRegressor(max_depth=max_depth, min_samples_leaf=min_samples_leaf, random_state=42)\n",
    "        scores = cross_val_score(model,x_train, y_train, cv=5, scoring='neg_mean_squared_error')\n",
    "        mse = -np.mean(scores)\n",
    "        \n",
    "        print(f\"max_depth={max_depth}, min_samples_leaf={min_samples_leaf} --> MSE: {mse:.4f}\")\n",
    "        \n",
    "        if mse < best_score:\n",
    "            best_score = mse\n",
    "            best_params = {'max_depth': max_depth, 'min_samples_leaf': min_samples_leaf}\n",
    "\n",
    "print(\"\\nBest MSE:\", best_score)\n",
    "print(\"Best Parameters:\", best_params)\n"
   ]
  },
  {
   "cell_type": "code",
   "execution_count": 101,
   "metadata": {},
   "outputs": [
    {
     "name": "stderr",
     "output_type": "stream",
     "text": [
      "/Library/Frameworks/Python.framework/Versions/3.11/lib/python3.11/site-packages/sklearn/base.py:1389: DataConversionWarning: A column-vector y was passed when a 1d array was expected. Please change the shape of y to (n_samples,), for example using ravel().\n",
      "  return fit_method(estimator, *args, **kwargs)\n"
     ]
    },
    {
     "name": "stdout",
     "output_type": "stream",
     "text": [
      "*************** 100 None\n",
      "R2 Score =  0.9994362064182006\n",
      "Mean Squared Error =  8.537319726257163\n",
      "Root Mean Squared Error =  2.921869217856467\n",
      "Mean Absolute Error =  1.298680586214207\n"
     ]
    },
    {
     "name": "stderr",
     "output_type": "stream",
     "text": [
      "/Library/Frameworks/Python.framework/Versions/3.11/lib/python3.11/site-packages/sklearn/base.py:1389: DataConversionWarning: A column-vector y was passed when a 1d array was expected. Please change the shape of y to (n_samples,), for example using ravel().\n",
      "  return fit_method(estimator, *args, **kwargs)\n"
     ]
    },
    {
     "name": "stdout",
     "output_type": "stream",
     "text": [
      "*************** 100 10\n",
      "R2 Score =  0.9994550553683341\n",
      "Mean Squared Error =  8.251896977598427\n",
      "Root Mean Squared Error =  2.8726115257024274\n",
      "Mean Absolute Error =  1.2561056487422033\n"
     ]
    },
    {
     "name": "stderr",
     "output_type": "stream",
     "text": [
      "/Library/Frameworks/Python.framework/Versions/3.11/lib/python3.11/site-packages/sklearn/base.py:1389: DataConversionWarning: A column-vector y was passed when a 1d array was expected. Please change the shape of y to (n_samples,), for example using ravel().\n",
      "  return fit_method(estimator, *args, **kwargs)\n"
     ]
    },
    {
     "name": "stdout",
     "output_type": "stream",
     "text": [
      "*************** 100 20\n",
      "R2 Score =  0.9994363711527476\n",
      "Mean Squared Error =  8.534825211344872\n",
      "Root Mean Squared Error =  2.9214423169634673\n",
      "Mean Absolute Error =  1.296690035613132\n"
     ]
    },
    {
     "name": "stderr",
     "output_type": "stream",
     "text": [
      "/Library/Frameworks/Python.framework/Versions/3.11/lib/python3.11/site-packages/sklearn/base.py:1389: DataConversionWarning: A column-vector y was passed when a 1d array was expected. Please change the shape of y to (n_samples,), for example using ravel().\n",
      "  return fit_method(estimator, *args, **kwargs)\n"
     ]
    },
    {
     "name": "stdout",
     "output_type": "stream",
     "text": [
      "*************** 100 30\n",
      "R2 Score =  0.9994361685603652\n",
      "Mean Squared Error =  8.537892993593735\n",
      "Root Mean Squared Error =  2.9219673156272186\n",
      "Mean Absolute Error =  1.2986244772059814\n"
     ]
    },
    {
     "name": "stderr",
     "output_type": "stream",
     "text": [
      "/Library/Frameworks/Python.framework/Versions/3.11/lib/python3.11/site-packages/sklearn/base.py:1389: DataConversionWarning: A column-vector y was passed when a 1d array was expected. Please change the shape of y to (n_samples,), for example using ravel().\n",
      "  return fit_method(estimator, *args, **kwargs)\n"
     ]
    },
    {
     "name": "stdout",
     "output_type": "stream",
     "text": [
      "*************** 200 None\n",
      "R2 Score =  0.9994344017711664\n",
      "Mean Squared Error =  8.56464683536646\n",
      "Root Mean Squared Error =  2.9265417877362454\n",
      "Mean Absolute Error =  1.2969650678730964\n"
     ]
    },
    {
     "name": "stderr",
     "output_type": "stream",
     "text": [
      "/Library/Frameworks/Python.framework/Versions/3.11/lib/python3.11/site-packages/sklearn/base.py:1389: DataConversionWarning: A column-vector y was passed when a 1d array was expected. Please change the shape of y to (n_samples,), for example using ravel().\n",
      "  return fit_method(estimator, *args, **kwargs)\n"
     ]
    },
    {
     "name": "stdout",
     "output_type": "stream",
     "text": [
      "*************** 200 10\n",
      "R2 Score =  0.9994544500139105\n",
      "Mean Squared Error =  8.261063637929672\n",
      "Root Mean Squared Error =  2.874206610167347\n",
      "Mean Absolute Error =  1.2565048729385366\n"
     ]
    },
    {
     "name": "stderr",
     "output_type": "stream",
     "text": [
      "/Library/Frameworks/Python.framework/Versions/3.11/lib/python3.11/site-packages/sklearn/base.py:1389: DataConversionWarning: A column-vector y was passed when a 1d array was expected. Please change the shape of y to (n_samples,), for example using ravel().\n",
      "  return fit_method(estimator, *args, **kwargs)\n"
     ]
    },
    {
     "name": "stdout",
     "output_type": "stream",
     "text": [
      "*************** 200 20\n",
      "R2 Score =  0.9994343180561495\n",
      "Mean Squared Error =  8.565914501206988\n",
      "Root Mean Squared Error =  2.926758360576935\n",
      "Mean Absolute Error =  1.296610615442384\n"
     ]
    },
    {
     "name": "stderr",
     "output_type": "stream",
     "text": [
      "/Library/Frameworks/Python.framework/Versions/3.11/lib/python3.11/site-packages/sklearn/base.py:1389: DataConversionWarning: A column-vector y was passed when a 1d array was expected. Please change the shape of y to (n_samples,), for example using ravel().\n",
      "  return fit_method(estimator, *args, **kwargs)\n"
     ]
    },
    {
     "name": "stdout",
     "output_type": "stream",
     "text": [
      "*************** 200 30\n",
      "R2 Score =  0.999434377787213\n",
      "Mean Squared Error =  8.565010015588284\n",
      "Root Mean Squared Error =  2.9266038364610067\n",
      "Mean Absolute Error =  1.2969585712002751\n"
     ]
    },
    {
     "name": "stderr",
     "output_type": "stream",
     "text": [
      "/Library/Frameworks/Python.framework/Versions/3.11/lib/python3.11/site-packages/sklearn/base.py:1389: DataConversionWarning: A column-vector y was passed when a 1d array was expected. Please change the shape of y to (n_samples,), for example using ravel().\n",
      "  return fit_method(estimator, *args, **kwargs)\n"
     ]
    },
    {
     "name": "stdout",
     "output_type": "stream",
     "text": [
      "*************** 500 None\n",
      "R2 Score =  0.9994347815560076\n",
      "Mean Squared Error =  8.558895892607795\n",
      "Root Mean Squared Error =  2.925559073511898\n",
      "Mean Absolute Error =  1.2975748223574164\n"
     ]
    },
    {
     "name": "stderr",
     "output_type": "stream",
     "text": [
      "/Library/Frameworks/Python.framework/Versions/3.11/lib/python3.11/site-packages/sklearn/base.py:1389: DataConversionWarning: A column-vector y was passed when a 1d array was expected. Please change the shape of y to (n_samples,), for example using ravel().\n",
      "  return fit_method(estimator, *args, **kwargs)\n"
     ]
    },
    {
     "name": "stdout",
     "output_type": "stream",
     "text": [
      "*************** 500 10\n",
      "R2 Score =  0.9994555910810962\n",
      "Mean Squared Error =  8.243784875441454\n",
      "Root Mean Squared Error =  2.871199205112988\n",
      "Mean Absolute Error =  1.255437151624163\n"
     ]
    },
    {
     "name": "stderr",
     "output_type": "stream",
     "text": [
      "/Library/Frameworks/Python.framework/Versions/3.11/lib/python3.11/site-packages/sklearn/base.py:1389: DataConversionWarning: A column-vector y was passed when a 1d array was expected. Please change the shape of y to (n_samples,), for example using ravel().\n",
      "  return fit_method(estimator, *args, **kwargs)\n"
     ]
    },
    {
     "name": "stdout",
     "output_type": "stream",
     "text": [
      "*************** 500 20\n",
      "R2 Score =  0.9994347978338132\n",
      "Mean Squared Error =  8.558649403758924\n",
      "Root Mean Squared Error =  2.9255169464145863\n",
      "Mean Absolute Error =  1.2972997791925012\n"
     ]
    },
    {
     "name": "stderr",
     "output_type": "stream",
     "text": [
      "/Library/Frameworks/Python.framework/Versions/3.11/lib/python3.11/site-packages/sklearn/base.py:1389: DataConversionWarning: A column-vector y was passed when a 1d array was expected. Please change the shape of y to (n_samples,), for example using ravel().\n",
      "  return fit_method(estimator, *args, **kwargs)\n"
     ]
    },
    {
     "name": "stdout",
     "output_type": "stream",
     "text": [
      "*************** 500 30\n",
      "R2 Score =  0.9994347565803459\n",
      "Mean Squared Error =  8.559274089905252\n",
      "Root Mean Squared Error =  2.9256237095541273\n",
      "Mean Absolute Error =  1.2976297151395744\n"
     ]
    }
   ],
   "source": [
    "n_estimators_list = [100, 200, 500]\n",
    "max_depth_list = [None, 10, 20, 30]\n",
    "for n_estimators in n_estimators_list:\n",
    "    for max_depth in max_depth_list:\n",
    "        rf = RandomForestRegressor(n_estimators=n_estimators,max_depth=max_depth, random_state=42)\n",
    "        rf=rf.fit(x_train, y_train)\n",
    "        rf_pred_fb= rf.predict(x_test)\n",
    "        print('***************',n_estimators,max_depth)\n",
    "        print(\"R2 Score = \", r2_score(y_test, rf_pred_fb))\n",
    "        print(\"Mean Squared Error = \", mean_squared_error(y_test, rf_pred_fb))\n",
    "        print(\"Root Mean Squared Error = \",root_mean_squared_error(y_test,rf_pred_fb))\n",
    "        print(\"Mean Absolute Error = \",mean_absolute_error(y_test,rf_pred_fb))"
   ]
  },
  {
   "cell_type": "code",
   "execution_count": 102,
   "metadata": {},
   "outputs": [],
   "source": [
    "best_params_rf={'n_estimators':200,'max_depth': 10}"
   ]
  },
  {
   "cell_type": "markdown",
   "metadata": {},
   "source": [
    "Mean Squared Error =  7.202438112502877\n",
    "R2 Score =  0.9995243602780101\n",
    "Mean Absolute Error =  1.1733872542518304\n",
    "Root Mean Squared Error =  2.6837358499865216"
   ]
  },
  {
   "cell_type": "code",
   "execution_count": 106,
   "metadata": {},
   "outputs": [
    {
     "name": "stderr",
     "output_type": "stream",
     "text": [
      "WARNING:root:Malformed experiment '235064234413715953'. Detailed error Yaml file '/Users/mohamedafrith/Desktop/mini_project_4/mlruns/235064234413715953/meta.yaml' does not exist.\n",
      "Traceback (most recent call last):\n",
      "  File \"/Library/Frameworks/Python.framework/Versions/3.11/lib/python3.11/site-packages/mlflow/store/tracking/file_store.py\", line 328, in search_experiments\n",
      "    exp = self._get_experiment(exp_id, view_type)\n",
      "          ^^^^^^^^^^^^^^^^^^^^^^^^^^^^^^^^^^^^^^^\n",
      "  File \"/Library/Frameworks/Python.framework/Versions/3.11/lib/python3.11/site-packages/mlflow/store/tracking/file_store.py\", line 422, in _get_experiment\n",
      "    meta = FileStore._read_yaml(experiment_dir, FileStore.META_DATA_FILE_NAME)\n",
      "           ^^^^^^^^^^^^^^^^^^^^^^^^^^^^^^^^^^^^^^^^^^^^^^^^^^^^^^^^^^^^^^^^^^^\n",
      "  File \"/Library/Frameworks/Python.framework/Versions/3.11/lib/python3.11/site-packages/mlflow/store/tracking/file_store.py\", line 1368, in _read_yaml\n",
      "    return _read_helper(root, file_name, attempts_remaining=retries)\n",
      "           ^^^^^^^^^^^^^^^^^^^^^^^^^^^^^^^^^^^^^^^^^^^^^^^^^^^^^^^^^\n",
      "  File \"/Library/Frameworks/Python.framework/Versions/3.11/lib/python3.11/site-packages/mlflow/store/tracking/file_store.py\", line 1361, in _read_helper\n",
      "    result = read_yaml(root, file_name)\n",
      "             ^^^^^^^^^^^^^^^^^^^^^^^^^^\n",
      "  File \"/Library/Frameworks/Python.framework/Versions/3.11/lib/python3.11/site-packages/mlflow/utils/file_utils.py\", line 310, in read_yaml\n",
      "    raise MissingConfigException(f\"Yaml file '{file_path}' does not exist.\")\n",
      "mlflow.exceptions.MissingConfigException: Yaml file '/Users/mohamedafrith/Desktop/mini_project_4/mlruns/235064234413715953/meta.yaml' does not exist.\n"
     ]
    },
    {
     "name": "stderr",
     "output_type": "stream",
     "text": [
      "WARNING:root:Malformed experiment '235064234413715953'. Detailed error Yaml file '/Users/mohamedafrith/Desktop/mini_project_4/mlruns/235064234413715953/meta.yaml' does not exist.\n",
      "Traceback (most recent call last):\n",
      "  File \"/Library/Frameworks/Python.framework/Versions/3.11/lib/python3.11/site-packages/mlflow/store/tracking/file_store.py\", line 328, in search_experiments\n",
      "    exp = self._get_experiment(exp_id, view_type)\n",
      "          ^^^^^^^^^^^^^^^^^^^^^^^^^^^^^^^^^^^^^^^\n",
      "  File \"/Library/Frameworks/Python.framework/Versions/3.11/lib/python3.11/site-packages/mlflow/store/tracking/file_store.py\", line 422, in _get_experiment\n",
      "    meta = FileStore._read_yaml(experiment_dir, FileStore.META_DATA_FILE_NAME)\n",
      "           ^^^^^^^^^^^^^^^^^^^^^^^^^^^^^^^^^^^^^^^^^^^^^^^^^^^^^^^^^^^^^^^^^^^\n",
      "  File \"/Library/Frameworks/Python.framework/Versions/3.11/lib/python3.11/site-packages/mlflow/store/tracking/file_store.py\", line 1368, in _read_yaml\n",
      "    return _read_helper(root, file_name, attempts_remaining=retries)\n",
      "           ^^^^^^^^^^^^^^^^^^^^^^^^^^^^^^^^^^^^^^^^^^^^^^^^^^^^^^^^^\n",
      "  File \"/Library/Frameworks/Python.framework/Versions/3.11/lib/python3.11/site-packages/mlflow/store/tracking/file_store.py\", line 1361, in _read_helper\n",
      "    result = read_yaml(root, file_name)\n",
      "             ^^^^^^^^^^^^^^^^^^^^^^^^^^\n",
      "  File \"/Library/Frameworks/Python.framework/Versions/3.11/lib/python3.11/site-packages/mlflow/utils/file_utils.py\", line 310, in read_yaml\n",
      "    raise MissingConfigException(f\"Yaml file '{file_path}' does not exist.\")\n",
      "mlflow.exceptions.MissingConfigException: Yaml file '/Users/mohamedafrith/Desktop/mini_project_4/mlruns/235064234413715953/meta.yaml' does not exist.\n",
      "WARNING:root:Malformed experiment '235064234413715953'. Detailed error Yaml file '/Users/mohamedafrith/Desktop/mini_project_4/mlruns/235064234413715953/meta.yaml' does not exist.\n",
      "Traceback (most recent call last):\n",
      "  File \"/Library/Frameworks/Python.framework/Versions/3.11/lib/python3.11/site-packages/mlflow/store/tracking/file_store.py\", line 328, in search_experiments\n",
      "    exp = self._get_experiment(exp_id, view_type)\n",
      "          ^^^^^^^^^^^^^^^^^^^^^^^^^^^^^^^^^^^^^^^\n",
      "  File \"/Library/Frameworks/Python.framework/Versions/3.11/lib/python3.11/site-packages/mlflow/store/tracking/file_store.py\", line 422, in _get_experiment\n",
      "    meta = FileStore._read_yaml(experiment_dir, FileStore.META_DATA_FILE_NAME)\n",
      "           ^^^^^^^^^^^^^^^^^^^^^^^^^^^^^^^^^^^^^^^^^^^^^^^^^^^^^^^^^^^^^^^^^^^\n",
      "  File \"/Library/Frameworks/Python.framework/Versions/3.11/lib/python3.11/site-packages/mlflow/store/tracking/file_store.py\", line 1368, in _read_yaml\n",
      "    return _read_helper(root, file_name, attempts_remaining=retries)\n",
      "           ^^^^^^^^^^^^^^^^^^^^^^^^^^^^^^^^^^^^^^^^^^^^^^^^^^^^^^^^^\n",
      "  File \"/Library/Frameworks/Python.framework/Versions/3.11/lib/python3.11/site-packages/mlflow/store/tracking/file_store.py\", line 1361, in _read_helper\n",
      "    result = read_yaml(root, file_name)\n",
      "             ^^^^^^^^^^^^^^^^^^^^^^^^^^\n",
      "  File \"/Library/Frameworks/Python.framework/Versions/3.11/lib/python3.11/site-packages/mlflow/utils/file_utils.py\", line 310, in read_yaml\n",
      "    raise MissingConfigException(f\"Yaml file '{file_path}' does not exist.\")\n",
      "mlflow.exceptions.MissingConfigException: Yaml file '/Users/mohamedafrith/Desktop/mini_project_4/mlruns/235064234413715953/meta.yaml' does not exist.\n",
      "WARNING:root:Malformed experiment '235064234413715953'. Detailed error Yaml file '/Users/mohamedafrith/Desktop/mini_project_4/mlruns/235064234413715953/meta.yaml' does not exist.\n",
      "Traceback (most recent call last):\n",
      "  File \"/Library/Frameworks/Python.framework/Versions/3.11/lib/python3.11/site-packages/mlflow/store/tracking/file_store.py\", line 328, in search_experiments\n",
      "    exp = self._get_experiment(exp_id, view_type)\n",
      "          ^^^^^^^^^^^^^^^^^^^^^^^^^^^^^^^^^^^^^^^\n",
      "  File \"/Library/Frameworks/Python.framework/Versions/3.11/lib/python3.11/site-packages/mlflow/store/tracking/file_store.py\", line 422, in _get_experiment\n",
      "    meta = FileStore._read_yaml(experiment_dir, FileStore.META_DATA_FILE_NAME)\n",
      "           ^^^^^^^^^^^^^^^^^^^^^^^^^^^^^^^^^^^^^^^^^^^^^^^^^^^^^^^^^^^^^^^^^^^\n",
      "  File \"/Library/Frameworks/Python.framework/Versions/3.11/lib/python3.11/site-packages/mlflow/store/tracking/file_store.py\", line 1368, in _read_yaml\n",
      "    return _read_helper(root, file_name, attempts_remaining=retries)\n",
      "           ^^^^^^^^^^^^^^^^^^^^^^^^^^^^^^^^^^^^^^^^^^^^^^^^^^^^^^^^^\n",
      "  File \"/Library/Frameworks/Python.framework/Versions/3.11/lib/python3.11/site-packages/mlflow/store/tracking/file_store.py\", line 1361, in _read_helper\n",
      "    result = read_yaml(root, file_name)\n",
      "             ^^^^^^^^^^^^^^^^^^^^^^^^^^\n",
      "  File \"/Library/Frameworks/Python.framework/Versions/3.11/lib/python3.11/site-packages/mlflow/utils/file_utils.py\", line 310, in read_yaml\n",
      "    raise MissingConfigException(f\"Yaml file '{file_path}' does not exist.\")\n",
      "mlflow.exceptions.MissingConfigException: Yaml file '/Users/mohamedafrith/Desktop/mini_project_4/mlruns/235064234413715953/meta.yaml' does not exist.\n",
      "2025/02/02 20:46:07 INFO mlflow.tracking.fluent: Experiment with name '1st_experiment' does not exist. Creating a new experiment.\n",
      "\u001b[31m2025/02/02 20:46:10 WARNING mlflow.models.model: Model logged without a signature and input example. Please set `input_example` parameter when logging the model to auto infer the model signature.\u001b[0m\n"
     ]
    },
    {
     "name": "stdout",
     "output_type": "stream",
     "text": [
      "🏃 View run linear_regression at: http://127.0.0.1:5000/#/experiments/645321400558584646/runs/24c19760c4284e17954705afdcd8d17c\n",
      "🧪 View experiment at: http://127.0.0.1:5000/#/experiments/645321400558584646\n"
     ]
    }
   ],
   "source": [
    "mlflow.set_experiment(\"1st_experiment\")\n",
    "mlflow.set_tracking_uri(\"http://127.0.0.1:5000\")\n",
    "with mlflow.start_run(run_name=\"linear_regression\"):\n",
    "    mlflow.log_params (best_params_lr)\n",
    "    mlflow.log_metrics({\n",
    "    \"R2 SCORE\": 0.9995243602780101,\n",
    "    \"MSE\": 7.202438112502877,\n",
    "    \"RMSE\": 2.6837358499865216,\n",
    "    \"MAE\":  1.1733872542518304\n",
    "})\n",
    "    mlflow.sklearn.log_model(lr,artifact_path=\"LinearRegression\")"
   ]
  },
  {
   "cell_type": "markdown",
   "metadata": {},
   "source": [
    "R2 Score =  0.9994544500139105\n",
    "Mean Squared Error =  8.261063637929672\n",
    "Root Mean Squared Error =  2.874206610167347\n",
    "Mean Absolute Error =  1.2565048729385366"
   ]
  },
  {
   "cell_type": "code",
   "execution_count": 107,
   "metadata": {},
   "outputs": [
    {
     "name": "stderr",
     "output_type": "stream",
     "text": [
      "\u001b[31m2025/02/02 20:50:54 WARNING mlflow.models.model: Model logged without a signature and input example. Please set `input_example` parameter when logging the model to auto infer the model signature.\u001b[0m\n"
     ]
    },
    {
     "name": "stdout",
     "output_type": "stream",
     "text": [
      "🏃 View run random_forest_regressor at: http://127.0.0.1:5000/#/experiments/645321400558584646/runs/4b73c6ad8dbf4f2185932a6f5adb4e1b\n",
      "🧪 View experiment at: http://127.0.0.1:5000/#/experiments/645321400558584646\n"
     ]
    }
   ],
   "source": [
    "mlflow.set_experiment(\"1st_experiment\")\n",
    "mlflow.set_tracking_uri(\"http://127.0.0.1:5000\")\n",
    "with mlflow.start_run(run_name=\"random_forest_regressor\"):\n",
    "    mlflow.log_params (best_params_rf)\n",
    "    mlflow.log_metrics({\n",
    "    \"R2 SCORE\": 0.9994544500139105,\n",
    "    \"MSE\": 8.261063637929672,\n",
    "    \"RMSE\": 2.874206610167347,\n",
    "    \"MAE\":  1.2565048729385366\n",
    "})\n",
    "    mlflow.sklearn.log_model(rf,artifact_path=\"RandomForestRegressor\")"
   ]
  },
  {
   "cell_type": "markdown",
   "metadata": {},
   "source": [
    "R2 Score =  0.9994089526595679\n",
    "Mean Squared Error =  8.95001341185745\n",
    "Root Mean Squared Error =  2.9916573018742385\n",
    "Mean Absolute Error =  1.3171056031819643"
   ]
  },
  {
   "cell_type": "code",
   "execution_count": 108,
   "metadata": {},
   "outputs": [
    {
     "name": "stderr",
     "output_type": "stream",
     "text": [
      "\u001b[31m2025/02/02 20:54:49 WARNING mlflow.models.model: Model logged without a signature and input example. Please set `input_example` parameter when logging the model to auto infer the model signature.\u001b[0m\n"
     ]
    },
    {
     "name": "stdout",
     "output_type": "stream",
     "text": [
      "🏃 View run decision_tree_regressor at: http://127.0.0.1:5000/#/experiments/645321400558584646/runs/92884e94e11a4a848c6f31e9bdc11f09\n",
      "🧪 View experiment at: http://127.0.0.1:5000/#/experiments/645321400558584646\n"
     ]
    }
   ],
   "source": [
    "mlflow.set_experiment(\"1st_experiment\")\n",
    "mlflow.set_tracking_uri(\"http://127.0.0.1:5000\")\n",
    "with mlflow.start_run(run_name=\"decision_tree_regressor\"):\n",
    "    mlflow.log_params (best_params)\n",
    "    mlflow.log_metrics({\n",
    "    \"R2 SCORE\": 0.9994089526595679,\n",
    "    \"MSE\": 8.95001341185745,\n",
    "    \"RMSE\": 2.9916573018742385,\n",
    "    \"MAE\":  1.3171056031819643\n",
    "})\n",
    "    mlflow.sklearn.log_model(decision_tree_model,artifact_path=\"DecisionTreeRegressor\")"
   ]
  },
  {
   "cell_type": "code",
   "execution_count": 109,
   "metadata": {},
   "outputs": [
    {
     "name": "stderr",
     "output_type": "stream",
     "text": [
      "Registered model 'linear_regression' already exists. Creating a new version of this model...\n",
      "2025/02/02 20:59:52 INFO mlflow.store.model_registry.abstract_store: Waiting up to 300 seconds for model version to finish creation. Model name: linear_regression, version 2\n",
      "Created version '2' of model 'linear_regression'.\n"
     ]
    }
   ],
   "source": [
    "model_name='linear_regression'\n",
    "run_id='24c19760c4284e17954705afdcd8d17c'\n",
    "model_uri=f\"runs:/{run_id}/{model_name}\"\n",
    "result=mlflow.register_model(model_uri,model_name)"
   ]
  },
  {
   "cell_type": "code",
   "execution_count": 113,
   "metadata": {},
   "outputs": [
    {
     "name": "stderr",
     "output_type": "stream",
     "text": [
      "/Library/Frameworks/Python.framework/Versions/3.11/lib/python3.11/site-packages/sklearn/utils/validation.py:2739: UserWarning: X does not have valid feature names, but LinearRegression was fitted with feature names\n",
      "  warnings.warn(\n"
     ]
    },
    {
     "data": {
      "text/plain": [
       "array([[1.12285992]])"
      ]
     },
     "execution_count": 113,
     "metadata": {},
     "output_type": "execute_result"
    }
   ],
   "source": [
    "sample_input=[[3,1.139106989,2005,1,4]]\n",
    "lr.predict(sample_input)\n"
   ]
  }
 ],
 "metadata": {
  "kernelspec": {
   "display_name": "Python 3",
   "language": "python",
   "name": "python3"
  },
  "language_info": {
   "codemirror_mode": {
    "name": "ipython",
    "version": 3
   },
   "file_extension": ".py",
   "mimetype": "text/x-python",
   "name": "python",
   "nbconvert_exporter": "python",
   "pygments_lexer": "ipython3",
   "version": "3.11.5"
  }
 },
 "nbformat": 4,
 "nbformat_minor": 2
}
